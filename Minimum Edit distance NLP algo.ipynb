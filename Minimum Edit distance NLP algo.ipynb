{
 "cells": [
  {
   "cell_type": "code",
   "execution_count": 1,
   "id": "1213d38c",
   "metadata": {},
   "outputs": [],
   "source": [
    "import numpy as np"
   ]
  },
  {
   "cell_type": "code",
   "execution_count": 97,
   "id": "adc7596e",
   "metadata": {},
   "outputs": [
    {
     "name": "stdout",
     "output_type": "stream",
     "text": [
      "[[ 0.  1.  2.  3.  4.  5.  6.  7.  8.  9.]\n",
      " [ 1.  2.  3.  4.  5.  6.  7.  6.  7.  8.]\n",
      " [ 2.  3.  4.  5.  6.  7.  8.  7.  8.  7.]\n",
      " [ 3.  4.  5.  6.  7.  8.  7.  8.  9.  8.]\n",
      " [ 4.  3.  4.  5.  6.  7.  8.  9. 10.  9.]\n",
      " [ 5.  4.  5.  6.  7.  8.  9. 10. 11. 10.]\n",
      " [ 6.  5.  6.  7.  8.  9.  8.  9. 10. 11.]\n",
      " [ 7.  6.  7.  8.  9. 10.  9.  8.  9. 10.]\n",
      " [ 8.  7.  8.  9. 10. 11. 10.  9.  8.  9.]\n",
      " [ 9.  8.  9. 10. 11. 12. 11. 10.  9.  8.]]\n"
     ]
    },
    {
     "data": {
      "text/plain": [
       "8.0"
      ]
     },
     "execution_count": 97,
     "metadata": {},
     "output_type": "execute_result"
    }
   ],
   "source": [
    "n = \"intention\" #source \n",
    "m = \"execution\" #target\n",
    "\n",
    "cost= minEditDist(n,m)\n",
    "\n",
    "cost #cost to transform source to target "
   ]
  },
  {
   "cell_type": "code",
   "execution_count": 96,
   "id": "de330064",
   "metadata": {},
   "outputs": [],
   "source": [
    "def minEditDist(n,m):\n",
    "    len1= len(n)\n",
    "    len2= len(m)\n",
    "    d= np.zeros((len1+1,len2+1)) #Creating a two-dimensional array\n",
    "    \n",
    "    for i in range(1,len(n)+1):\n",
    "        d[i][0]= d[i-1][0] + 1\n",
    "    for j in range(1,len(m)+1):\n",
    "        d[0][j]= d[0][j-1] + 1\n",
    "    \n",
    "    for i in range(1,len(n)+1):\n",
    "        #print(i)\n",
    "        for j in range(1,len(m)+1):\n",
    "            #print(j)\n",
    "            if n[i-1] == m[j-1]:  #If the characters are the same, set the cost of substitution to zero.\n",
    "                cost=0\n",
    "            else:  #else set the cost to two\n",
    "                cost=2\n",
    "            \n",
    "                \n",
    "            #deletion, insertion, or substitution of a character cases \n",
    "            d[i][j]=  min(d[i-1][j] +1,\n",
    "                        d[i-1][j-1] +cost ,\n",
    "                         d[i][j-1] +1\n",
    "                                )\n",
    "                \n",
    "    print(d)\n",
    "    return (d[len1][len2])"
   ]
  }
 ],
 "metadata": {
  "kernelspec": {
   "display_name": "Python 3",
   "language": "python",
   "name": "python3"
  },
  "language_info": {
   "codemirror_mode": {
    "name": "ipython",
    "version": 3
   },
   "file_extension": ".py",
   "mimetype": "text/x-python",
   "name": "python",
   "nbconvert_exporter": "python",
   "pygments_lexer": "ipython3",
   "version": "3.8.8"
  }
 },
 "nbformat": 4,
 "nbformat_minor": 5
}
